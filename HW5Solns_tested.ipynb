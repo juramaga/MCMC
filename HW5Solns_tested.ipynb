{
 "metadata": {
  "name": "",
  "signature": "sha256:dbf73dc269dd1786d9aba639c6bf54c4fe92a2dec497b8ba3282e1153729daa3"
 },
 "nbformat": 3,
 "nbformat_minor": 0,
 "worksheets": [
  {
   "cells": [
    {
     "cell_type": "heading",
     "level": 3,
     "metadata": {},
     "source": [
      "Question 1: Warming up with a multivariate normal distribution"
     ]
    },
    {
     "cell_type": "markdown",
     "metadata": {},
     "source": [
      "Your astronomer friend working on star clusters has come up with a posterior for the probabiliy of finding a star within a cluster in position $(x,y,z)$. This posterior distribution happens to be a 3 dimensional multivariate normal with mean vector (1, 2, 3), variances each equal to 4, and an intraclass correlation\n",
      "coefficient of 1.2; that is,\n",
      "\n",
      "$$ \n",
      "p(x,y,z) \\sim  N \\left(  \n",
      "\\left[\n",
      "\\begin{array}{c}\n",
      "    1  \\\\ \n",
      "    2  \\\\ \n",
      "    3  \\\\ \n",
      "  \\end{array} \n",
      "\\right],\n",
      "\\left[\n",
      "  \\begin{array}{ccc}\n",
      "    4 & 1.2 & 1.2 \\\\ \n",
      "    1.2 & 4 & 1.2 \\\\ \n",
      "    1.2 & 1.2 & 4 \\\\  \n",
      "  \\end{array} \n",
      "  \\right] \\right)\n",
      "$$ "
     ]
    },
    {
     "cell_type": "markdown",
     "metadata": {},
     "source": [
      "He comes to you because he wants to sample from this distribution, but he suspects that there is a bug in the multivariate normal function from numpy. You quickly realize that you can help him by using a Gibbs sampler. \n",
      "\n",
      "In the following we write $X = [x,y,z]$ and $X_k$ as the vector containing $k$ compontens of $X$, and $X_{-k}$ as the vector containing all the components except for $k$. \n",
      "\n",
      "In order to find any conditional distribution $p(X_k|X_{-k})$ of a multivariate normal dsitribution with dimension k, you can partition the covariance matrix as follows:\n",
      "\n",
      "$$ \\Sigma = \\left[ \\begin{array}{cc} \\Sigma_{11} & \\Sigma_{12} \\\\ \\Sigma_{21} & \\Sigma_{22}  \\end{array} \\right] $$\n",
      "\n",
      "where $\\Sigma_{11}$ is the submatrix of the covariance matrix obtained by deleting the rows and columnns where the variances of the conditioning variables are located, $\\Sigma_{22}$ is the submatrix obtained by deleting the rows and columnns where the variances of the conditioned variables are located, and $\\Sigma_{12} = \\Sigma_{21}^T$ are the remaining matrices.\n",
      "\n",
      "For our 3 dimensional problem we get:\n",
      "\n",
      "$$\n",
      "\\Sigma = \n",
      "\\left[\n",
      "  \\begin{array}{ccc}\n",
      "    \\sigma_x^2 & \\sigma_x \\sigma_y & \\sigma_x \\sigma_z \\\\ \n",
      "    \\sigma_y \\sigma_x & \\sigma_y^2 & \\sigma_y \\sigma_z \\\\ \n",
      "    \\sigma_z \\sigma_x & \\sigma_z \\sigma_y & \\sigma_z^2 \\\\  \n",
      "  \\end{array} \n",
      "  \\right]\n",
      "$$\n",
      "\n",
      "so if we are interested in $p(x|y,z)$ we have $\\Sigma_{11} = \\left[\\sigma_x\\right], \\Sigma_{12} = \\Sigma_{21}^T = \\left[ \\sigma_x \\sigma_y \\quad \\sigma_x \\sigma_z \\right]$, and $\\Sigma_{22} = \\left[   \\begin{array}{cc}\n",
      "    \\sigma_y^2 & \\sigma_y \\sigma_z \\\\ \n",
      "    \\sigma_z \\sigma_y & \\sigma_z^2 \\\\  \n",
      "  \\end{array} \\right]$ \n",
      "\n",
      "We can do this for all three conditional distributions and because our example is so nicely symmetric we get the same sub-matrices for each of the conditionals:\n",
      "\n",
      "$$ \\Sigma_{11} = \\left[ 4 \\right] $$\n",
      "\n",
      "$$ \\Sigma_{12} = \\Sigma_{21}^T = \\left[ 1.2 \\quad 1.2 \\right] $$\n",
      "\n",
      "$$ \\Sigma_{22}= \\left[ \\begin{array}{cc} 4 & 1.2 \\\\ 1.2 & 4 \\end{array} \\right] $$"
     ]
    },
    {
     "cell_type": "markdown",
     "metadata": {},
     "source": [
      "Now we can use the standard decomposition of the multivariate normal, given below. The conditional distributions are univariate Normals with mean values given by:\n",
      "\n",
      "$$ \\hat{x} = \\mu_x + \\Sigma_{12} \\Sigma^{-1}_{22}  \\left[   \\begin{array}{cc}  y-\\mu_y \\\\ z-\\mu_z \\end{array} \\right] $$\n",
      "$$ \\hat{y} = \\mu_y + \\Sigma_{12} \\Sigma^{-1}_{22}  \\left[   \\begin{array}{cc}  x-\\mu_x \\\\ z-\\mu_z \\end{array} \\right] $$\n",
      "$$ \\hat{z} = \\mu_z + \\Sigma_{12} \\Sigma^{-1}_{22}  \\left[   \\begin{array}{cc}  x-\\mu_x \\\\ y-\\mu_y \\end{array} \\right] $$\n",
      "\n",
      "where $\\mu_x, \\mu_y, \\mu_z$ are $1,2,3$ and $\\Sigma_{ij}$ represents the elements of the covariance matrix above.\n",
      "The similarity of the expressions comes from the fact that the matrix is very symmetric. The covariance matrix\n",
      "of the conditional distributions is given by:\n",
      "\n",
      "$$ \\hat{\\Sigma} = \\Sigma_{11}-\\Sigma_{12} \\Sigma_{22}^{-1} \\Sigma_{21} $$\n",
      "\n",
      "(a) Write the Gibbs sampler for this distribution by sampling sequentially from the three conditional distributions $p(x|y,z), p(y|x,z), p(z|x,y)$. Choose a thinning parameter, burnin factor and total number of iterations that allow you to take 10000 non-autocorrelated draws. (_Hint_: Don't just give us the numbers you use, please explain how you chose them)\n",
      "\n",
      "(b) In contrast to your friend you actually do trust the multivariate normal function from numpy. As you have your Gibbs sampler now already in place you decide to give blockwise sampling a try. The idea is to sample sequentially from the conditional distributions $p(x,y|z)$ and $p(z|x,y)$. Verify that both the componentewise and the blockwise updates are leading to samples from the same distribution."
     ]
    },
    {
     "cell_type": "heading",
     "level": 4,
     "metadata": {},
     "source": [
      "Solution to part (a)."
     ]
    },
    {
     "cell_type": "markdown",
     "metadata": {},
     "source": [
      "Just for fun, let us start by plotting the projection of our Multivariate distribution on the x,y, x,z and y,z spaces:"
     ]
    },
    {
     "cell_type": "code",
     "collapsed": false,
     "input": [
      "%matplotlib inline\n",
      "from collections import defaultdict\n",
      "import json\n",
      "import numpy as np\n",
      "import scipy as sp\n",
      "import matplotlib.pyplot as plt\n",
      "import pandas as pd\n",
      "from matplotlib import rcParams\n",
      "import matplotlib.cm as cm\n",
      "import matplotlib as mpl\n",
      "import matplotlib.pyplot as plt\n",
      "\n",
      "mu=[1,2,3] ## center\n",
      "sig=[[4.,1.2,1.2],[1.2,4.,1.2],[1.2,1.2,4.]] ## covariance matrix\n",
      "detsig=np.linalg.det(sig) ## compute the determinant\n",
      "print detsig\n",
      "\n",
      "x = np.random.multivariate_normal(mu,sig,100000)\n",
      "\n",
      "plt.subplots(1,3,figsize=(15,5))\n",
      "\n",
      "plt.subplot(1,3,1)\n",
      "plt.hist2d(x[:,0],x[:,1], normed=True, bins=100)\n",
      "\n",
      "\n",
      "plt.subplot(1,3,2)\n",
      "plt.hist2d(x[:,0],x[:,2], normed=True, bins=100)\n",
      "\n",
      "\n",
      "plt.subplot(1,3,3)\n",
      "plt.hist2d(x[:,1],x[:,2], normed=True, bins=100)\n",
      "\n",
      "plt.show()"
     ],
     "language": "python",
     "metadata": {},
     "outputs": [
      {
       "output_type": "stream",
       "stream": "stdout",
       "text": [
        "50.176\n"
       ]
      },
      {
       "metadata": {},
       "output_type": "display_data",
       "png": "[encoded data removed]",
       "text": [
        "<matplotlib.figure.Figure at 0x6c5cdf0>"
       ]
      }
     ],
     "prompt_number": 1
    },
    {
     "cell_type": "code",
     "collapsed": false,
     "input": [
      "# Let us set things up\n",
      "\n",
      "Ng=10000 # We want 1000 Gibbs Sample values\n",
      "Ns=1 # We need 10 samples for part b\n",
      "burnin=2000 # Burn\u2212in samples\n",
      "thin=5 # Thinning factor\n",
      "Nmc= burnin + (Ng*thin) # Iterations within the loop  \n",
      "\n",
      "mu = np.array([1,2,3])     # Mean vector of the multivariate normal distribution\n",
      "sigma = np.array([[4,1.2, 1.2], [1.2, 4, 1.2],[1.2, 1.2, 4]])    # Covariance Matrix\n",
      "sigma11 = 4                                     # Submatrix\n",
      "sigma12 = np.array([1.2, 1.2])                  # Submatrix\n",
      "sigma22 = np.array([[4 ,1.2],[ 1.2, 4]])        # Submatrix\n",
      "print sigma\n",
      "print sigma22"
     ],
     "language": "python",
     "metadata": {},
     "outputs": [
      {
       "output_type": "stream",
       "stream": "stdout",
       "text": [
        "[[ 4.   1.2  1.2]\n",
        " [ 1.2  4.   1.2]\n",
        " [ 1.2  1.2  4. ]]\n",
        "[[ 4.   1.2]\n",
        " [ 1.2  4. ]]\n"
       ]
      }
     ],
     "prompt_number": 11
    },
    {
     "cell_type": "code",
     "collapsed": false,
     "input": [
      "inv = np.linalg.inv\n",
      "def ddot(a,b,c):\n",
      "    return np.dot(np.dot(a,b),c)\n",
      "# Define sigma for conditional distributions\n",
      "std_sigma = np.sqrt(sigma11 - ddot(sigma12, inv(sigma22), sigma12.T))\n",
      "print std_sigma"
     ],
     "language": "python",
     "metadata": {},
     "outputs": [
      {
       "output_type": "stream",
       "stream": "stdout",
       "text": [
        "1.85638192357\n"
       ]
      }
     ],
     "prompt_number": 12
    },
    {
     "cell_type": "code",
     "collapsed": false,
     "input": [
      "# Now let's calculate the conditional distributions on each of the parameters\n",
      "\n",
      "mucondx = lambda y,z: mu[0] + ddot(sigma12, inv(sigma22), np.array([y-mu[1], z-mu[2]]).T)\n",
      "mucondy = lambda x,z: mu[1] + ddot(sigma12, inv(sigma22), [x-mu[0], z-mu[2]]) \n",
      "mucondz = lambda x,y: mu[2] + ddot(sigma12, inv(sigma22), [x-mu[0], y-mu[1]])"
     ],
     "language": "python",
     "metadata": {},
     "outputs": [],
     "prompt_number": 13
    },
    {
     "cell_type": "markdown",
     "metadata": {},
     "source": [
      "We now run the Gibbs sampler:"
     ]
    },
    {
     "cell_type": "code",
     "collapsed": false,
     "input": [
      "# Allocate output memory\n",
      "out_x = np.zeros((Ns,Ng)) \n",
      "out_y = np.zeros((Ns,Ng)) \n",
      "out_z = np.zeros((Ns,Ng))"
     ],
     "language": "python",
     "metadata": {},
     "outputs": [],
     "prompt_number": 14
    },
    {
     "cell_type": "code",
     "collapsed": false,
     "input": [
      "for j in xrange(Ns): # Create Ns=10 samples\n",
      "    # Initializing memory for intra\u2212loop samples\n",
      "    x = np.zeros(Nmc)\n",
      "    y = np.zeros(Nmc)\n",
      "    z = np.zeros(Nmc)\n",
      "    # initial random values\n",
      "    foo = std_sigma*np.random.randn(3, Nmc)\n",
      "    x[0] = mu[0] + foo[0, 0]\n",
      "    y[0] = mu[1] + foo[1, 0]\n",
      "    z[0] = mu[2] + foo[2, 0]\n",
      "    for i in np.arange(1,Nmc): # Gibbs Sampler\n",
      "        #Calculate multivariate normals\n",
      "        x[i]=mucondx(y[i-1],z[i-1]) + foo[0,i]\n",
      "        y[i]=mucondy(x[i],z[i-1]) + foo[1,i]\n",
      "        z[i]=mucondz(x[i],y[i]) + foo[2,i]\n",
      "        \n",
      "    # Populate the arrays , dump the burn\u2212in and thin out x(j, :) = x(burnin+2:thin:end);\n",
      "    out_x[j, :] = x[burnin+1::thin]\n",
      "    out_y[j, :] = y[burnin+1::thin]\n",
      "    out_z[j, :] = z[burnin+1::thin]"
     ],
     "language": "python",
     "metadata": {},
     "outputs": [],
     "prompt_number": 17
    },
    {
     "cell_type": "code",
     "collapsed": false,
     "input": [
      "control_samples = np.random.multivariate_normal(mu,sig,Ng)"
     ],
     "language": "python",
     "metadata": {},
     "outputs": [],
     "prompt_number": 44
    },
    {
     "cell_type": "code",
     "collapsed": false,
     "input": [
      "plt.subplots(1,3,figsize=(15,5))\n",
      "\n",
      "plt.subplot(1,3,1)\n",
      "plt.hist(out_x[0,:], bins=100)\n",
      "plt.hist(control_samples[:,0], bins=100, histtype=\"step\", color='r')\n",
      "\n",
      "plt.subplot(1,3,2)\n",
      "plt.hist(out_y[0,:], bins=100)\n",
      "plt.hist(control_samples[:,1], bins=100, histtype=\"step\", color='r')\n",
      "\n",
      "plt.subplot(1,3,3)\n",
      "plt.hist(out_z[0,:], bins=100)\n",
      "plt.hist(control_samples[:,2], bins=100, histtype=\"step\", color='r')\n",
      "\n",
      "plt.show()"
     ],
     "language": "python",
     "metadata": {},
     "outputs": [
      {
       "metadata": {},
       "output_type": "display_data",
       "png": "[encoded data removed]",
       "text": [
        "<matplotlib.figure.Figure at 0x133bd770>"
       ]
      }
     ],
     "prompt_number": 45
    },
    {
     "cell_type": "markdown",
     "metadata": {},
     "source": [
      "Quick difference of mean test:"
     ]
    },
    {
     "cell_type": "code",
     "collapsed": false,
     "input": [
      "theta_a = np.mean(out_x[0,:])\n",
      "theta_b = np.mean(control_samples[:,0])\n",
      "var_a  = np.var(out_x[0,:])\n",
      "var_b  = np.var(control_samples[:,0])\n",
      "        \n",
      "print (theta_a-theta_b)/np.sqrt( var_a + var_b)"
     ],
     "language": "python",
     "metadata": {},
     "outputs": [
      {
       "output_type": "stream",
       "stream": "stdout",
       "text": [
        "-0.0251079855537\n"
       ]
      }
     ],
     "prompt_number": 46
    },
    {
     "cell_type": "heading",
     "level": 4,
     "metadata": {},
     "source": [
      "Solution to part (b)."
     ]
    },
    {
     "cell_type": "markdown",
     "metadata": {},
     "source": [
      "In this part we do a similar excercise, but now we sample from the contitionals $Y(x,y|z)$ and $Y(z|x,y)$. This means that we will be doing blockwise updating in $(x,y)$. Thinks are pretty similar, but now we will be sampling from one univariate normal and a bivariate normal, rather than three univariate normals like in part (a). So we have to be careful with the definitions of our submatrices in each case."
     ]
    },
    {
     "cell_type": "code",
     "collapsed": false,
     "input": [
      "# Let us set things up\n",
      "\n",
      "Ng=1000 # We want 1000 Gibbs Sample values\n",
      "Ns=1 # We need 10 samples for part b\n",
      "burnin=2000 # Burn\u2212in samples\n",
      "thin=5 # Thinning factor\n",
      "Nmc= burnin + (Ng*thin) # Iterations within the loop  \n",
      "\n",
      "mu = np.array([1,2,3])     # Mean vector of the multivariate normal distribution\n",
      "sigma = np.array([[4,1.2, 1.2], [1.2, 4, 1.2],[1.2, 1.2, 4]])    # Covariance Matrix\n",
      "sigma11_xy = np.array([[4 ,1.2],[ 1.2, 4]])                                     # Submatrix\n",
      "sigma12_xy = np.array([1.2, 1.2]).T                  # Submatrix\n",
      "sigma22_xy = 4        # Submatrix\n",
      "\n",
      "sigma11_z = 4                                     # Submatrix\n",
      "sigma12_z = np.array([1.2, 1.2])                  # Submatrix\n",
      "sigma22_z = np.array([[4 ,1.2],[ 1.2, 4]])        # Submatrix\n"
     ],
     "language": "python",
     "metadata": {},
     "outputs": [],
     "prompt_number": 129
    },
    {
     "cell_type": "code",
     "collapsed": false,
     "input": [
      "std_sigma_xy = np.sqrt(sigma11_xy - ddot(sigma12_xy, 1/sigma22_xy, sigma12_xy.T))\n",
      "std_sigma_z = np.sqrt(sigma11_z - ddot(sigma12_z, inv(sigma22_z), sigma12_z.T))\n",
      "print std_sigma_xy\n",
      "print std_sigma_z"
     ],
     "language": "python",
     "metadata": {},
     "outputs": [
      {
       "output_type": "stream",
       "stream": "stdout",
       "text": [
        "[[ 2.          1.09544512]\n",
        " [ 1.09544512  2.        ]]\n",
        "1.85638192357\n"
       ]
      }
     ],
     "prompt_number": 130
    },
    {
     "cell_type": "code",
     "collapsed": false,
     "input": [
      "# Now let's calculate the conditional distributions on each of the parameters\n",
      "\n",
      "mucond_x_y = lambda z: [mu[0], mu[1]] + ddot(sigma12_xy, 1/sigma22_xy, z-mu[2])\n",
      "mucondz = lambda x,y: mu[2] + ddot(sigma12_z, inv(sigma22_z), [x-mu[0], y-mu[1]])"
     ],
     "language": "python",
     "metadata": {},
     "outputs": [],
     "prompt_number": 131
    },
    {
     "cell_type": "code",
     "collapsed": false,
     "input": [
      "# Allocate output memory\n",
      "out_x_y = np.zeros((Ns,2,Ng)) \n",
      "out_z = np.zeros((Ns,Ng))\n"
     ],
     "language": "python",
     "metadata": {},
     "outputs": [],
     "prompt_number": 132
    },
    {
     "cell_type": "code",
     "collapsed": false,
     "input": [
      "for j in xrange(Ns): # Create Ns=10 samples\n",
      "    # Initializing memory for intra\u2212loop samples\n",
      "    x_y = np.zeros((2, Nmc)).T\n",
      "    z = np.zeros(Nmc)\n",
      "    # initial random values\n",
      "    foo_xy = np.random.multivariate_normal([0,0], std_sigma_xy, Nmc)\n",
      "    foo_z = std_sigma_z*np.random.randn(1, Nmc)\n",
      "    x_y[0] = [mu[0], mu[1]] + foo_xy[0]\n",
      "    z[0] = mu[2] + foo_z[0, 0]\n",
      "    for i in np.arange(1,Nmc): # Gibbs Sampler\n",
      "        #Calculate multivariate normals\n",
      "        x_y[i]=mucond_x_y(z[i-1]) + foo_xy[i]\n",
      "        z[i]=mucondz(x[i],y[i]) + foo_z[0,i]\n",
      "        \n",
      "    # Populate the arrays , dump the burn\u2212in and thin out x(j, :) = x(burnin+2:thin:end);\n",
      "    print shape(out_x_y[j, :]),shape(x_y[burnin+1::thin].T)\n",
      "    out_x_y[j, :] = x_y[burnin+1::thin].T\n",
      "    out_z[j, :] = z[burnin+1::thin]"
     ],
     "language": "python",
     "metadata": {},
     "outputs": [
      {
       "output_type": "stream",
       "stream": "stdout",
       "text": [
        "\n",
        "(2, 1000)"
       ]
      },
      {
       "output_type": "stream",
       "stream": "stdout",
       "text": [
        " (2, 1000)\n"
       ]
      }
     ],
     "prompt_number": 134
    },
    {
     "cell_type": "code",
     "collapsed": false,
     "input": [
      "plt.subplots(1,3,figsize=(15,5))\n",
      "\n",
      "plt.subplot(1,3,1)\n",
      "plt.hist(out_x_y[0,0,:])\n",
      "\n",
      "plt.subplot(1,3,2)\n",
      "plt.hist(out_x_y[0,1,:])\n",
      "\n",
      "plt.subplot(1,3,3)\n",
      "plt.hist(out_z[0,:])\n"
     ],
     "language": "python",
     "metadata": {},
     "outputs": [
      {
       "metadata": {},
       "output_type": "pyout",
       "prompt_number": 142,
       "text": [
        "(array([   5.,   28.,   82.,  127.,  218.,  238.,  165.,  102.,   27.,    8.]),\n",
        " array([-3.19111462, -1.97551593, -0.75991723,  0.45568146,  1.67128015,\n",
        "         2.88687885,  4.10247754,  5.31807624,  6.53367493,  7.74927363,\n",
        "         8.96487232]),\n",
        " <a list of 10 Patch objects>)"
       ]
      },
      {
       "metadata": {},
       "output_type": "display_data",
       "png": "[encoded data removed]",
       "text": [
        "<matplotlib.figure.Figure at 0x111db9c50>"
       ]
      }
     ],
     "prompt_number": 142
    },
    {
     "cell_type": "markdown",
     "metadata": {},
     "source": [
      "The distributions look pretty similar to part (a), which shows that regardles of the use of componentwise or blockwise updating, we arrive at the same answer, but blockwise updating is faster."
     ]
    },
    {
     "cell_type": "heading",
     "level": 3,
     "metadata": {},
     "source": [
      "Question 2: Motif finding for extraterrestrial biology."
     ]
    },
    {
     "cell_type": "markdown",
     "metadata": {},
     "source": [
      "You are a biologist who is analyzing some genetic material that astronauts collected in a nearby asteroid. The DNA of this extraterrestrial form of life is formed as a sequence of $n_B = 5$ nucleotide bases (unlike your DNA, that is made by combining only 4 nucleotides). You have named these extraterrestrial nucleotides 'F', 'R', 'L', 'A', and 'E'. NASA has given you a DNA sample consisting of $p=20$ sequences of DNA, each of them with a lenght $l=100$ nucleotide bases that you can find in <a href=\"Sequences.dat\">this file</a>. Each row of the table is a DNA string. You are asked to find a particular substring (we call it a motif) of $k = 6$ consecutive nucleotides that appears to repeat itself very often in the DNA you were given, but that appears only once in each of the sequences. You quickly realize that the problem is equivalent to maximizing the joint probability distribution $p(x_1,x_2,...,x_p)$ in a p-dimensional space that the most \"mutually similar\" motif (in this case an identical sequence of $k$ elements) starts at positions $\\left\\{x_1,x_2,...,x_p\\right\\}$ of your set of $p$ sequences. \n",
      "\n",
      "Think about this in terms of Gibbs sampling. Maybe you can find the conditional probability of the hidden motif starting at position $j$ of your *i-th* string, given the current starting positions of the $k$-subsequence in all other strings. Let us help you out:\n",
      "\n",
      "(a) Start by assigning random starting positions for the $k$-long motif in all sequences. Now exclude the first string and construct a matrix with dimension $(k+1)\\times n_B$ where, for $j$ in $[1,k+1]$, element in column $j$ and row $i$ is the number of times that the *i-th* base is in position $j$, given the current starting points of the $p-1$ remaining sequences. Add an extra column (column 0) to account for the number of times that base the *i-th* appears in the background (not inside a motif). Now calculate a probability matrix:\n",
      "\n",
      "$$\n",
      "    P[i,j]= \n",
      "\\begin{cases}\n",
      "    \\frac{C[i,j]+0.5}{p-1+0.5*n_B},& \\text{           for } j \\text{ in } [1,k+1]\\\\\n",
      "    \\frac{C[i,0]+0.5}{(l-k)*(p-1)+0.5*n_B},& \\text{           for } j = 0\n",
      "\\end{cases}\n",
      "$$\n",
      "\n",
      "where the $C[i,j]$ are the number of counts in each case. The additional term of $0.5$ is a pseudocunt added to avoid infinities. \n",
      "\n",
      "(b) Think about how you can use this probability matrix to calculate the conditional probability $p(x_j|x_1,x_2,...,x_{j-1},x_{j+1},...,x_p)$) that the hidden motif starts in position $x_j$ of the first sequence. HINT: Given the probability of bases in different positions for all other sequences, what is the probability of having the observed nucleotide bases in the current sequence and current position?\n",
      " \n",
      "(b) Construct a Gibbs sampling algorithm that, starting at random positions for all sequences, iterates this process over the $p=20$ different DNA sequences and generates an updated set of starting positions $\\left\\{x_1^{i+1},x_2^{i+1},...,x_p^{i+1}\\right\\}$, sampling from the conditional probabilities, until the updated positions converge. Provide the hidden motif and the starting positions of it in each of the sequences."
     ]
    },
    {
     "cell_type": "heading",
     "level": 4,
     "metadata": {},
     "source": [
      "Solution to part (a)."
     ]
    },
    {
     "cell_type": "markdown",
     "metadata": {},
     "source": [
      "This problem is common in DNA sequencing and it is known as motif finding. A good way to solve it is as follows: the idea is that at each step, we update the starting position for the motif in a given sequence using the information contained in all the other sequences and their current starting positions of the motif. In other words, with all fixed positions of the motif in the remaining sequences, at each step we are finding the probability distribution of my motif starting at different positions of my current sequence, conditioned on all other sequences being known. And then we sample the next position within my current sequence from that conditional probability (this is Gibbs), and continue with the next sequence. After enough iterations over all sequences, you will converge towards the starting positions that give very similar motifs."
     ]
    },
    {
     "cell_type": "markdown",
     "metadata": {},
     "source": [
      "(1) Initialization\n",
      "\n",
      "So, the first step is to start at random positions for all the $p$ sequences. You exclude one of the sequences (let's say the first one, which we will now call our current sequence), and construct a matrix with dimension $k\\times n_B$ where element in column $j$ and row $i$ is the number of times that the $\\textit{i-th}$ base is in position $j$ given the current starting points of the remaining sequences. So, if your sequences look like:\n",
      "\n",
      "                         L    E    L  | L    R    E    A    A    F  | A   ====> EXCLUDE!\n",
      "                         E  | L    E    E    R    R    E  | F    R    L\n",
      "                         A    L    F    L  | R    A    R    L    R    E |\n",
      "                         A    F  | F    A    R    E    R    E  | E    A\n",
      "                         \n",
      "Then your matrix looks like:\n",
      "\n",
      "                              0    1    2    3    4    5    6      \n",
      "                         F    3    1    0    0    0    0    0\n",
      "                 C   =   R    1    1    0    2    1    3    0  \n",
      "                         L    3    1    0    0    1    0    0 \n",
      "                         A    3    0    2    0    0    0    0 \n",
      "                         E    2    0    1    1    1    0    3\n",
      "                         \n",
      " Where we have added a '0' column to account for the number of times that the bases fall in the background."
     ]
    },
    {
     "cell_type": "markdown",
     "metadata": {},
     "source": [
      "(2) Predictive update\n",
      "\n",
      "Starting with our count matrix, we can now calculate our probability matrix as:\n",
      "\n",
      "$$P[i,j] = \\frac{C[i,j]+0.5}{p-1+0.5*n_B}$$\n",
      "\n",
      "where we have added the pseudocounts. So for each base in each position, this likelihood probbaility is equal to the number of times base $i$ appears in position $j$, divided by the number of times it appears in the background. For the background column:\n",
      "\n",
      "$$P[i,0] = \\frac{C[i,0]+0.5}{\\sum_{i\\neq 1}(l-k)+0.5*n_B}$$\n",
      "\n",
      "which means that the probability of base $i$ being in the background equals the number of times it appears in the background divided by the spots available in the background."
     ]
    },
    {
     "cell_type": "markdown",
     "metadata": {},
     "source": [
      "(3) Sampling\n",
      "\n",
      "Now we build the conditional probability for our current sequence and its current motif starting position as the product of the probabilities that we would observe the given letters in the given order: L R E A A F. That is: the product of the probability of L being in the first position, times the probability of R being in the second position, etc. And then we still have to divide by the probability of each base being in a random string, from the background probabilities:\n",
      "\n",
      "$$p(x_j|x_1,x_2,...,x_{j-1},x_{j+1},...,x_p) = \\prod_{i=1}^k \\frac{P_i(b_i)}{Bg(b_i)}$$\n",
      "\n",
      "where $P_i(b_i) = P[i,j]$ is the probability that the *i-th* position has the given base $b_i$, and $Bg(b_i)=P[i,0]$ is the probability of observing the base $b_i$ at random.\n",
      "\n",
      "We can normalize this conditional probability and then sample our next starting position for the motif from the resulting distribution.\n"
     ]
    },
    {
     "cell_type": "markdown",
     "metadata": {},
     "source": [
      "(4) Iteration\n",
      "\n",
      "Now that we have sampled the new position for the first sequence, we move to the next sequence and repeat the process. After we have done it for all $p$ sequences, we iterate until the proposed starting positions do not change. Let us implement it:"
     ]
    },
    {
     "cell_type": "heading",
     "level": 4,
     "metadata": {},
     "source": [
      "Solution to part (b)"
     ]
    },
    {
     "cell_type": "code",
     "collapsed": false,
     "input": [
      "# We start by loading the data and defining the parameters.\n",
      "\n",
      "import random\n",
      "import numpy as np\n",
      "from numpy.random import random_sample\n",
      "\n",
      "\n",
      "#lines = [line.rstrip('\\n') for line in file]\n",
      "with open('Sequences.dat') as f:\n",
      "    Seqs = [line.rstrip('\\n') for line in f]\n",
      "    #Seqs = [line.rstrip('\\n') for line in file]\n",
      "#for x in Seqs: print len(x) - k\n",
      "\n",
      "#random.randint(0, 200)\n",
      "    \n",
      "bases = ['F', 'R', 'L', 'A','E']\n",
      "n_b = 5  # Numer of bases\n",
      "l = len(Seqs[0])  # Length of strings\n",
      "k = 6   # Length of motif\n",
      "p = len(Seqs)  # Number of strings\n"
     ],
     "language": "python",
     "metadata": {},
     "outputs": [],
     "prompt_number": 1
    },
    {
     "cell_type": "code",
     "collapsed": false,
     "input": [
      "# NOW WE DEFINE ALL USEFUL FUNCTIONS\n",
      "\n",
      "# We first define a function that calculates the position frequency matrix (C)\n",
      "def calc_PFM(Sequence,seq_excluded,I):    \n",
      "    PFM = np.zeros(shape=(n_b,k+1))   # Initialize matrix\n",
      "    \n",
      "    for i in arange(p):               # Loop over strings\n",
      "        if i != seq_excluded:         # Exclude a particular string\n",
      "            subseq = Sequence[i][I[i]:I[i]+k]      # define substring of size k\n",
      "            compl = Sequence[i][0:I[i]]+Sequence[i][I[i]+k:]    # complement of the substring\n",
      "            \n",
      "            for j in arange(n_b):     # Loop over bases\n",
      "                if (compl.count(bases[j]) > 0): \n",
      "                    PFM[j,0] += compl.count(bases[j])    # Add a count if current base in background\n",
      "                for h in arange(k): \n",
      "                    if (subseq[h] == bases[j]): PFM[j,h+1] += 1  # Add a count if baje j is in position h of the string\n",
      "                               \n",
      "    return PFM\n",
      " \n",
      "    \n",
      "# Now we define a function to calculate the probability matrix (P)\n",
      "def calc_PWM(PFM_0):\n",
      "    pseudocnt = 0.5  # Pseudocounts added to avoid probabilities of zero.\n",
      "    PWM = np.zeros(shape=(n_b,k+1))   # Initialize matrix\n",
      "    for i in arange(n_b):\n",
      "        PWM[i,0] = (PFM_0[i,0] + pseudocnt)/((l-k)*(p-1)+pseudocnt*n_b)   # Probability of finding ith base in background\n",
      "        for j in arange(1,k+1):\n",
      "            PWM[i,j] = (PFM_0[i,j] + pseudocnt)/(p-1+pseudocnt*n_b)       # Probability of finding ith base in position j\n",
      "    return PWM\n",
      "\n",
      "\n",
      "# Now we define a function to calculate the probability of next position of motif in sequence, from the likelikood ratios (The conditional probability)\n",
      "def calc_likelihood(PWM_0,seq_excluded):\n",
      "    Likelihood_seq = np.zeros(l-k+1)  # Array for likelihoods of given motif starting at each of the possible positions of string\n",
      "    Likelihood_bkgnd = np.zeros(l-k+1)  # Array for likelihoods of given starting at the background\n",
      "    #A = 1\n",
      "    #print A\n",
      "    current_string = Seqs[seq_excluded]  # This is my current string\n",
      "    #print current_string\n",
      "    for i in arange(l-k+1):              # Loop over the possible starting positions\n",
      "        current_subseq = current_string[i:i+k]     # Proposed motif position\n",
      "        \n",
      "        Likelihood_seq_0 = 1   # Initialize Likelihood_seq\n",
      "        Likelihood_bkgnd_0 = 1  # Initialize Likelihood_bckgnd\n",
      "        for j in arange(k):             # Loop over the length of the motif\n",
      "            for h in arange(n_b):       # Loop over bases\n",
      "                if (current_subseq[j] == bases[h]):\n",
      "                    #print PWM_0[h,j+1]\n",
      "                    Likelihood_seq_0 *= PWM_0[h,j+1]  # Fill in Likelihood_seq \n",
      "                    Likelihood_bkgnd_0 *= PWM_0[h,0]  # Fill in Likelihood_bckgnd\n",
      "                    \n",
      "            Likelihood_seq[i] = Likelihood_seq_0\n",
      "            Likelihood_bkgnd[i] = Likelihood_bkgnd_0\n",
      "    norm_fact = np.sum(Likelihood_seq/Likelihood_bkgnd)   # Normalize probability \n",
      "    return (Likelihood_seq/Likelihood_bkgnd)/norm_fact    # Probaility of new position i in chosen sequence\n",
      "\n",
      "# Finally we create a function to sample from the conditional probability.\n",
      "def weighted_values(values, probabilities, size):\n",
      "    bins = np.add.accumulate(probabilities)\n",
      "    return values[np.digitize(random_sample(size), bins)]"
     ],
     "language": "python",
     "metadata": {},
     "outputs": [],
     "prompt_number": 2
    },
    {
     "cell_type": "markdown",
     "metadata": {},
     "source": [
      "After we have defined our functions to calculate the conditional probability, we iterate many times over the $p$ sequences, until we converge to a final set of starting positions:"
     ]
    },
    {
     "cell_type": "code",
     "collapsed": false,
     "input": [
      "def gibbs(Seqs, k):\n",
      "    \"\"\"Seqs is a list of strings. Find the best motif.\"\"\"\n",
      "    \n",
      "    # start with random indices\n",
      "    I = [random.randint(0, l - k) for x in Seqs]\n",
      "    \n",
      "    LastI = None\n",
      "    #for repeats in arange(2000):\n",
      "    while I != LastI: # repeat until nothing changes\n",
      "        LastI = list(I)\n",
      "        #print I   \n",
      "        # iterate through every string\n",
      "        for i in xrange(len(Seqs)):\n",
      "            \n",
      "        # compute the profile for the sequences except i\n",
      "\n",
      "            P = calc_PWM(calc_PFM(Seqs,i,I))\n",
      "        \n",
      "                \n",
      "            # find the place the profile matches best\n",
      "            \n",
      "            for j in xrange(len(Seqs[i]) - k + 1):\n",
      "                \n",
      "                score_arr = calc_likelihood(P,i)\n",
      "                \n",
      "            I[i] = int(mean(weighted_values(arange(len(Seqs[i]) - k + 1),score_arr,1)))\n",
      "            \n",
      "    return I, [x[j : j + k] for x, j in zip(Seqs, I)]"
     ],
     "language": "python",
     "metadata": {},
     "outputs": [],
     "prompt_number": 3
    },
    {
     "cell_type": "code",
     "collapsed": false,
     "input": [
      "#for i in arange(100):\n",
      "result = gibbs(Seqs, k)\n",
      "print result"
     ],
     "language": "python",
     "metadata": {},
     "outputs": [
      {
       "output_type": "stream",
       "stream": "stdout",
       "text": [
        "([23, 46, 7, 69, 6, 67, 10, 66, 20, 57, 25, 55, 26, 62, 53, 28, 52, 16, 52, 66], ['RAFAEL', 'RAFAEL', 'RAFAEL', 'RAFAEL', 'RAFAEL', 'RAFAEL', 'RAFAEL', 'RAFAEL', 'RAFAEL', 'RAFAEL', 'RAFAEL', 'RAFAEL', 'RAFAEL', 'RAFAEL', 'RAFAEL', 'RAFAEL', 'RAFAEL', 'RAFAEL', 'RAFAEL', 'RAFAEL'])\n"
       ]
      }
     ],
     "prompt_number": 4
    },
    {
     "cell_type": "markdown",
     "metadata": {},
     "source": [
      "Wow! We have discovered that the hidden motif is the name of one of our TFs!! Weird stuff!"
     ]
    },
    {
     "cell_type": "code",
     "collapsed": false,
     "input": [],
     "language": "python",
     "metadata": {},
     "outputs": []
    }
   ],
   "metadata": {}
  }
 ]
}